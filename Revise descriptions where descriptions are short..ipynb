{
 "cells": [
  {
   "cell_type": "markdown",
   "metadata": {},
   "source": [
    "# Revise descriptions where descriptions are short.\n",
    "Aim to go through all items and change descriptions to full length descriptions.\n",
    "\n"
   ]
  },
  {
   "cell_type": "markdown",
   "metadata": {},
   "source": [
    "Check that all is ok and get the user"
   ]
  },
  {
   "cell_type": "code",
   "execution_count": 1,
   "metadata": {
    "collapsed": false
   },
   "outputs": [],
   "source": [
    "import numpy as np\n",
    "\n",
    "from py_ebay import Ebay, is_nan"
   ]
  },
  {
   "cell_type": "code",
   "execution_count": 2,
   "metadata": {
    "collapsed": false
   },
   "outputs": [
    {
     "name": "stdout",
     "output_type": "stream",
     "text": [
      "thebeddingspecialist\n"
     ]
    }
   ],
   "source": [
    "e = Ebay()\n",
    "print(e.user)"
   ]
  },
  {
   "cell_type": "markdown",
   "metadata": {},
   "source": [
    "# Get Ebay data"
   ]
  },
  {
   "cell_type": "code",
   "execution_count": 3,
   "metadata": {
    "collapsed": false
   },
   "outputs": [
    {
     "name": "stdout",
     "output_type": "stream",
     "text": [
      "Number of items on sale = 67\n"
     ]
    }
   ],
   "source": [
    "print('Number of items on sale = {}'.format(e.count))"
   ]
  },
  {
   "cell_type": "markdown",
   "metadata": {},
   "source": [
    "Create an empty data frame of the right size ready to fill.  We do this as Pandas works better with not rebuilding the dataframe row by row."
   ]
  },
  {
   "cell_type": "code",
   "execution_count": 4,
   "metadata": {
    "collapsed": false,
    "scrolled": true
   },
   "outputs": [
    {
     "name": "stdout",
     "output_type": "stream",
     "text": [
      "Add EAN\n"
     ]
    },
    {
     "data": {
      "text/html": [
       "<div>\n",
       "<table border=\"1\" class=\"dataframe\">\n",
       "  <thead>\n",
       "    <tr style=\"text-align: right;\">\n",
       "      <th></th>\n",
       "      <th>ItemID</th>\n",
       "      <th>Title</th>\n",
       "      <th>Quantity</th>\n",
       "      <th>HitCount</th>\n",
       "      <th>BuyItNowPrice</th>\n",
       "      <th>Description</th>\n",
       "      <th>SKU</th>\n",
       "      <th>MPN</th>\n",
       "      <th>EAN</th>\n",
       "      <th>ReturnPolicy</th>\n",
       "      <th>ListingStatus</th>\n",
       "    </tr>\n",
       "  </thead>\n",
       "  <tbody>\n",
       "    <tr>\n",
       "      <th>0</th>\n",
       "      <td>222241552193</td>\n",
       "      <td>Waterproof Terry Towelling Breathable Mattress...</td>\n",
       "      <td>8</td>\n",
       "      <td>18</td>\n",
       "      <td>{u'_currencyID': u'USD', u'value': u'0.0'}</td>\n",
       "      <td>&lt;ul&gt;&lt;li&gt;Luxury fitted waterproof towelling mat...</td>\n",
       "      <td>BSTPSO72</td>\n",
       "      <td>BSTPSO72</td>\n",
       "      <td>5029280064064</td>\n",
       "      <td>{u'ShippingCostPaidByOption': u'Buyer', u'Ship...</td>\n",
       "      <td>Active</td>\n",
       "    </tr>\n",
       "    <tr>\n",
       "      <th>1</th>\n",
       "      <td>222241565687</td>\n",
       "      <td>Waterproof Terry Towelling Breathable Mattress...</td>\n",
       "      <td>8</td>\n",
       "      <td>19</td>\n",
       "      <td>{u'_currencyID': u'USD', u'value': u'0.0'}</td>\n",
       "      <td>&lt;ul&gt;&lt;li&gt;Luxury fitted waterproof towelling mat...</td>\n",
       "      <td>BSTPSO60</td>\n",
       "      <td>BSTPSO60</td>\n",
       "      <td>5029280064057</td>\n",
       "      <td>{u'ShippingCostPaidByOption': u'Buyer', u'Ship...</td>\n",
       "      <td>Active</td>\n",
       "    </tr>\n",
       "    <tr>\n",
       "      <th>2</th>\n",
       "      <td>222243612061</td>\n",
       "      <td>Waterproof Terry Towelling Breathable Mattress...</td>\n",
       "      <td>7</td>\n",
       "      <td>NaN</td>\n",
       "      <td>{u'_currencyID': u'USD', u'value': u'0.0'}</td>\n",
       "      <td>Luxury fitted waterproof towelling mattress pr...</td>\n",
       "      <td>BSTPSO30</td>\n",
       "      <td>NaN</td>\n",
       "      <td>5029280064125</td>\n",
       "      <td>{u'ShippingCostPaidByOption': u'Buyer', u'Ship...</td>\n",
       "      <td>Active</td>\n",
       "    </tr>\n",
       "    <tr>\n",
       "      <th>3</th>\n",
       "      <td>222243647970</td>\n",
       "      <td>Anti-Allergy / Antibacterial Mattress Protecto...</td>\n",
       "      <td>8</td>\n",
       "      <td>NaN</td>\n",
       "      <td>{u'_currencyID': u'USD', u'value': u'0.0'}</td>\n",
       "      <td>Luxury fitted Mattress Protector with environm...</td>\n",
       "      <td>BSAQML60</td>\n",
       "      <td>NaN</td>\n",
       "      <td>5029280064019</td>\n",
       "      <td>{u'ShippingCostPaidByOption': u'Buyer', u'Ship...</td>\n",
       "      <td>Active</td>\n",
       "    </tr>\n",
       "    <tr>\n",
       "      <th>4</th>\n",
       "      <td>222243648296</td>\n",
       "      <td>Anti-Allergy Mattress Topper - King Bed.</td>\n",
       "      <td>8</td>\n",
       "      <td>NaN</td>\n",
       "      <td>{u'_currencyID': u'USD', u'value': u'0.0'}</td>\n",
       "      <td>Luxury Quilted mattress Topper with environmen...</td>\n",
       "      <td>BSAQTL60</td>\n",
       "      <td>NaN</td>\n",
       "      <td>5029280063777</td>\n",
       "      <td>{u'ShippingCostPaidByOption': u'Buyer', u'Ship...</td>\n",
       "      <td>Active</td>\n",
       "    </tr>\n",
       "  </tbody>\n",
       "</table>\n",
       "</div>"
      ],
      "text/plain": [
       "         ItemID                                              Title Quantity  \\\n",
       "0  222241552193  Waterproof Terry Towelling Breathable Mattress...        8   \n",
       "1  222241565687  Waterproof Terry Towelling Breathable Mattress...        8   \n",
       "2  222243612061  Waterproof Terry Towelling Breathable Mattress...        7   \n",
       "3  222243647970  Anti-Allergy / Antibacterial Mattress Protecto...        8   \n",
       "4  222243648296           Anti-Allergy Mattress Topper - King Bed.        8   \n",
       "\n",
       "  HitCount                               BuyItNowPrice  \\\n",
       "0       18  {u'_currencyID': u'USD', u'value': u'0.0'}   \n",
       "1       19  {u'_currencyID': u'USD', u'value': u'0.0'}   \n",
       "2      NaN  {u'_currencyID': u'USD', u'value': u'0.0'}   \n",
       "3      NaN  {u'_currencyID': u'USD', u'value': u'0.0'}   \n",
       "4      NaN  {u'_currencyID': u'USD', u'value': u'0.0'}   \n",
       "\n",
       "                                         Description       SKU       MPN  \\\n",
       "0  <ul><li>Luxury fitted waterproof towelling mat...  BSTPSO72  BSTPSO72   \n",
       "1  <ul><li>Luxury fitted waterproof towelling mat...  BSTPSO60  BSTPSO60   \n",
       "2  Luxury fitted waterproof towelling mattress pr...  BSTPSO30       NaN   \n",
       "3  Luxury fitted Mattress Protector with environm...  BSAQML60       NaN   \n",
       "4  Luxury Quilted mattress Topper with environmen...  BSAQTL60       NaN   \n",
       "\n",
       "             EAN                                       ReturnPolicy  \\\n",
       "0  5029280064064  {u'ShippingCostPaidByOption': u'Buyer', u'Ship...   \n",
       "1  5029280064057  {u'ShippingCostPaidByOption': u'Buyer', u'Ship...   \n",
       "2  5029280064125  {u'ShippingCostPaidByOption': u'Buyer', u'Ship...   \n",
       "3  5029280064019  {u'ShippingCostPaidByOption': u'Buyer', u'Ship...   \n",
       "4  5029280063777  {u'ShippingCostPaidByOption': u'Buyer', u'Ship...   \n",
       "\n",
       "  ListingStatus  \n",
       "0        Active  \n",
       "1        Active  \n",
       "2        Active  \n",
       "3        Active  \n",
       "4        Active  "
      ]
     },
     "execution_count": 4,
     "metadata": {},
     "output_type": "execute_result"
    }
   ],
   "source": [
    "df = e.allitems_dataframe\n",
    "df.head()"
   ]
  },
  {
   "cell_type": "code",
   "execution_count": 7,
   "metadata": {
    "collapsed": false
   },
   "outputs": [],
   "source": [
    "df['DescriptionLen'] = [len(r) for r in df['Description']]"
   ]
  },
  {
   "cell_type": "markdown",
   "metadata": {},
   "source": [
    "Get the list of items that need to be revised."
   ]
  },
  {
   "cell_type": "code",
   "execution_count": 8,
   "metadata": {
    "collapsed": false
   },
   "outputs": [
    {
     "data": {
      "text/html": [
       "<div>\n",
       "<table border=\"1\" class=\"dataframe\">\n",
       "  <thead>\n",
       "    <tr style=\"text-align: right;\">\n",
       "      <th></th>\n",
       "      <th>ItemID</th>\n",
       "      <th>Title</th>\n",
       "      <th>Quantity</th>\n",
       "      <th>HitCount</th>\n",
       "      <th>BuyItNowPrice</th>\n",
       "      <th>Description</th>\n",
       "      <th>SKU</th>\n",
       "      <th>MPN</th>\n",
       "      <th>EAN</th>\n",
       "      <th>ReturnPolicy</th>\n",
       "      <th>ListingStatus</th>\n",
       "      <th>DescriptionLen</th>\n",
       "    </tr>\n",
       "  </thead>\n",
       "  <tbody>\n",
       "    <tr>\n",
       "      <th>2</th>\n",
       "      <td>222243612061</td>\n",
       "      <td>Waterproof Terry Towelling Breathable Mattress...</td>\n",
       "      <td>7</td>\n",
       "      <td>NaN</td>\n",
       "      <td>{u'_currencyID': u'USD', u'value': u'0.0'}</td>\n",
       "      <td>Luxury fitted waterproof towelling mattress pr...</td>\n",
       "      <td>BSTPSO30</td>\n",
       "      <td>NaN</td>\n",
       "      <td>5029280064125</td>\n",
       "      <td>{u'ShippingCostPaidByOption': u'Buyer', u'Ship...</td>\n",
       "      <td>Active</td>\n",
       "      <td>56</td>\n",
       "    </tr>\n",
       "    <tr>\n",
       "      <th>3</th>\n",
       "      <td>222243647970</td>\n",
       "      <td>Anti-Allergy / Antibacterial Mattress Protecto...</td>\n",
       "      <td>8</td>\n",
       "      <td>NaN</td>\n",
       "      <td>{u'_currencyID': u'USD', u'value': u'0.0'}</td>\n",
       "      <td>Luxury fitted Mattress Protector with environm...</td>\n",
       "      <td>BSAQML60</td>\n",
       "      <td>NaN</td>\n",
       "      <td>5029280064019</td>\n",
       "      <td>{u'ShippingCostPaidByOption': u'Buyer', u'Ship...</td>\n",
       "      <td>Active</td>\n",
       "      <td>97</td>\n",
       "    </tr>\n",
       "    <tr>\n",
       "      <th>4</th>\n",
       "      <td>222243648296</td>\n",
       "      <td>Anti-Allergy Mattress Topper - King Bed.</td>\n",
       "      <td>8</td>\n",
       "      <td>NaN</td>\n",
       "      <td>{u'_currencyID': u'USD', u'value': u'0.0'}</td>\n",
       "      <td>Luxury Quilted mattress Topper with environmen...</td>\n",
       "      <td>BSAQTL60</td>\n",
       "      <td>NaN</td>\n",
       "      <td>5029280063777</td>\n",
       "      <td>{u'ShippingCostPaidByOption': u'Buyer', u'Ship...</td>\n",
       "      <td>Active</td>\n",
       "      <td>95</td>\n",
       "    </tr>\n",
       "  </tbody>\n",
       "</table>\n",
       "</div>"
      ],
      "text/plain": [
       "         ItemID                                              Title Quantity  \\\n",
       "2  222243612061  Waterproof Terry Towelling Breathable Mattress...        7   \n",
       "3  222243647970  Anti-Allergy / Antibacterial Mattress Protecto...        8   \n",
       "4  222243648296           Anti-Allergy Mattress Topper - King Bed.        8   \n",
       "\n",
       "  HitCount                               BuyItNowPrice  \\\n",
       "2      NaN  {u'_currencyID': u'USD', u'value': u'0.0'}   \n",
       "3      NaN  {u'_currencyID': u'USD', u'value': u'0.0'}   \n",
       "4      NaN  {u'_currencyID': u'USD', u'value': u'0.0'}   \n",
       "\n",
       "                                         Description       SKU  MPN  \\\n",
       "2  Luxury fitted waterproof towelling mattress pr...  BSTPSO30  NaN   \n",
       "3  Luxury fitted Mattress Protector with environm...  BSAQML60  NaN   \n",
       "4  Luxury Quilted mattress Topper with environmen...  BSAQTL60  NaN   \n",
       "\n",
       "             EAN                                       ReturnPolicy  \\\n",
       "2  5029280064125  {u'ShippingCostPaidByOption': u'Buyer', u'Ship...   \n",
       "3  5029280064019  {u'ShippingCostPaidByOption': u'Buyer', u'Ship...   \n",
       "4  5029280063777  {u'ShippingCostPaidByOption': u'Buyer', u'Ship...   \n",
       "\n",
       "  ListingStatus  DescriptionLen  \n",
       "2        Active              56  \n",
       "3        Active              97  \n",
       "4        Active              95  "
      ]
     },
     "execution_count": 8,
     "metadata": {},
     "output_type": "execute_result"
    }
   ],
   "source": [
    "df1 = df[(df['DescriptionLen'] < 150)][:3]\n",
    "df1"
   ]
  },
  {
   "cell_type": "code",
   "execution_count": null,
   "metadata": {
    "collapsed": false
   },
   "outputs": [],
   "source": [
    "from inventory import Inventory\n",
    "inv = Inventory()\n",
    "inv.df.head()"
   ]
  },
  {
   "cell_type": "code",
   "execution_count": null,
   "metadata": {
    "collapsed": false
   },
   "outputs": [],
   "source": [
    "for rowt in df1.iterrows():\n",
    "    row=rowt[1]\n",
    "    EAN = row['EAN']\n",
    "    print(' EAN {}'.format(EAN))\n",
    "    sku = inv.get_sku(row['EAN'])\n",
    "    print('Get SKU for EAN {} = {}'.format(EAN, sku))\n",
    "    item_id = row['ItemID']\n",
    "    print('Set SKU for ItemID {}'.format(item_id))\n",
    "    e.set_sku(item_id, sku)\n"
   ]
  },
  {
   "cell_type": "code",
   "execution_count": null,
   "metadata": {
    "collapsed": false
   },
   "outputs": [],
   "source": [
    "inv.df[inv.df['barcode']=='5029280064064']"
   ]
  },
  {
   "cell_type": "code",
   "execution_count": null,
   "metadata": {
    "collapsed": false
   },
   "outputs": [],
   "source": [
    "inv.df[inv.df['barcode']=='{}'.format(5029280064064)].iloc[0].vendor_product_id"
   ]
  },
  {
   "cell_type": "code",
   "execution_count": null,
   "metadata": {
    "collapsed": true
   },
   "outputs": [],
   "source": []
  }
 ],
 "metadata": {
  "kernelspec": {
   "display_name": "Python 2",
   "language": "python",
   "name": "python2"
  },
  "language_info": {
   "codemirror_mode": {
    "name": "ipython",
    "version": 2
   },
   "file_extension": ".py",
   "mimetype": "text/x-python",
   "name": "python",
   "nbconvert_exporter": "python",
   "pygments_lexer": "ipython2",
   "version": "2.7.12"
  }
 },
 "nbformat": 4,
 "nbformat_minor": 0
}
