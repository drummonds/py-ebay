{
 "cells": [
  {
   "cell_type": "markdown",
   "metadata": {},
   "source": [
    "# Revise descriptions where descriptions are short.\n",
    "Aim to go through all items and change descriptions to full length descriptions.\n",
    "\n"
   ]
  },
  {
   "cell_type": "markdown",
   "metadata": {},
   "source": [
    "Check that all is ok and get the user"
   ]
  },
  {
   "cell_type": "code",
   "execution_count": 1,
   "metadata": {
    "collapsed": false
   },
   "outputs": [],
   "source": [
    "import numpy as np\n",
    "\n",
    "from py_ebay import Ebay, is_nan"
   ]
  },
  {
   "cell_type": "code",
   "execution_count": 2,
   "metadata": {
    "collapsed": false
   },
   "outputs": [
    {
     "name": "stdout",
     "output_type": "stream",
     "text": [
      "User: thebeddingspecialist, code version: 0.7\n"
     ]
    }
   ],
   "source": [
    "e = Ebay()\n",
    "print('User: {}, code version: {}'.format(e.user, e.version))"
   ]
  },
  {
   "cell_type": "markdown",
   "metadata": {},
   "source": [
    "# Get Ebay data"
   ]
  },
  {
   "cell_type": "code",
   "execution_count": 3,
   "metadata": {
    "collapsed": false
   },
   "outputs": [
    {
     "name": "stdout",
     "output_type": "stream",
     "text": [
      "Number of items on sale = 67\n"
     ]
    }
   ],
   "source": [
    "print('Number of items on sale = {}'.format(e.count))"
   ]
  },
  {
   "cell_type": "markdown",
   "metadata": {},
   "source": [
    "Create an empty data frame of the right size ready to fill.  We do this as Pandas works better with not rebuilding the dataframe row by row."
   ]
  },
  {
   "cell_type": "code",
   "execution_count": 4,
   "metadata": {
    "collapsed": false,
    "scrolled": true
   },
   "outputs": [
    {
     "name": "stdout",
     "output_type": "stream",
     "text": [
      "Add EAN\n"
     ]
    },
    {
     "data": {
      "text/html": [
       "<div>\n",
       "<table border=\"1\" class=\"dataframe\">\n",
       "  <thead>\n",
       "    <tr style=\"text-align: right;\">\n",
       "      <th></th>\n",
       "      <th>ItemID</th>\n",
       "      <th>Title</th>\n",
       "      <th>Quantity</th>\n",
       "      <th>HitCount</th>\n",
       "      <th>BuyItNowPrice</th>\n",
       "      <th>Description</th>\n",
       "      <th>SKU</th>\n",
       "      <th>MPN</th>\n",
       "      <th>EAN</th>\n",
       "      <th>ReturnPolicy</th>\n",
       "      <th>ListingStatus</th>\n",
       "    </tr>\n",
       "  </thead>\n",
       "  <tbody>\n",
       "    <tr>\n",
       "      <th>0</th>\n",
       "      <td>222241552193</td>\n",
       "      <td>Waterproof Terry Towelling Breathable Mattress...</td>\n",
       "      <td>8</td>\n",
       "      <td>18</td>\n",
       "      <td>{u'_currencyID': u'USD', u'value': u'0.0'}</td>\n",
       "      <td>&lt;ul&gt;\\n    &lt;li&gt;&lt;font face=\"Arial\"&gt;\\n        Lux...</td>\n",
       "      <td>BSTPSO72</td>\n",
       "      <td>BSTPSO72</td>\n",
       "      <td>5029280064064</td>\n",
       "      <td>{u'ShippingCostPaidByOption': u'Buyer', u'Ship...</td>\n",
       "      <td>Active</td>\n",
       "    </tr>\n",
       "    <tr>\n",
       "      <th>1</th>\n",
       "      <td>222241565687</td>\n",
       "      <td>Waterproof Terry Towelling Breathable Mattress...</td>\n",
       "      <td>8</td>\n",
       "      <td>19</td>\n",
       "      <td>{u'_currencyID': u'USD', u'value': u'0.0'}</td>\n",
       "      <td>&lt;ul&gt;\\n    &lt;li&gt;&lt;font face=\"Arial\"&gt;\\n        Lux...</td>\n",
       "      <td>BSTPSO60</td>\n",
       "      <td>BSTPSO60</td>\n",
       "      <td>5029280064057</td>\n",
       "      <td>{u'ShippingCostPaidByOption': u'Buyer', u'Ship...</td>\n",
       "      <td>Active</td>\n",
       "    </tr>\n",
       "    <tr>\n",
       "      <th>2</th>\n",
       "      <td>222243612061</td>\n",
       "      <td>Waterproof Terry Towelling Breathable Mattress...</td>\n",
       "      <td>7</td>\n",
       "      <td>NaN</td>\n",
       "      <td>{u'_currencyID': u'USD', u'value': u'0.0'}</td>\n",
       "      <td>&lt;ul&gt;\\n    &lt;li&gt;\\n        Luxury fitted waterpro...</td>\n",
       "      <td>BSTPSO30</td>\n",
       "      <td>NaN</td>\n",
       "      <td>5029280064125</td>\n",
       "      <td>{u'ShippingCostPaidByOption': u'Buyer', u'Ship...</td>\n",
       "      <td>Active</td>\n",
       "    </tr>\n",
       "    <tr>\n",
       "      <th>3</th>\n",
       "      <td>222243647970</td>\n",
       "      <td>Anti-Allergy / Antibacterial Mattress Protecto...</td>\n",
       "      <td>8</td>\n",
       "      <td>NaN</td>\n",
       "      <td>{u'_currencyID': u'USD', u'value': u'0.0'}</td>\n",
       "      <td>&lt;ul&gt;\\n    &lt;li&gt;\\n        Luxury fitted Mattress...</td>\n",
       "      <td>BSAQML60</td>\n",
       "      <td>NaN</td>\n",
       "      <td>5029280064019</td>\n",
       "      <td>{u'ShippingCostPaidByOption': u'Buyer', u'Ship...</td>\n",
       "      <td>Active</td>\n",
       "    </tr>\n",
       "    <tr>\n",
       "      <th>4</th>\n",
       "      <td>222243648296</td>\n",
       "      <td>Anti-Allergy Mattress Topper - King Bed.</td>\n",
       "      <td>8</td>\n",
       "      <td>NaN</td>\n",
       "      <td>{u'_currencyID': u'USD', u'value': u'0.0'}</td>\n",
       "      <td>&lt;ul&gt;\\n    &lt;li&gt;\\n        Luxury Quilted mattres...</td>\n",
       "      <td>BSAQTL60</td>\n",
       "      <td>NaN</td>\n",
       "      <td>5029280063777</td>\n",
       "      <td>{u'ShippingCostPaidByOption': u'Buyer', u'Ship...</td>\n",
       "      <td>Active</td>\n",
       "    </tr>\n",
       "  </tbody>\n",
       "</table>\n",
       "</div>"
      ],
      "text/plain": [
       "         ItemID                                              Title Quantity  \\\n",
       "0  222241552193  Waterproof Terry Towelling Breathable Mattress...        8   \n",
       "1  222241565687  Waterproof Terry Towelling Breathable Mattress...        8   \n",
       "2  222243612061  Waterproof Terry Towelling Breathable Mattress...        7   \n",
       "3  222243647970  Anti-Allergy / Antibacterial Mattress Protecto...        8   \n",
       "4  222243648296           Anti-Allergy Mattress Topper - King Bed.        8   \n",
       "\n",
       "  HitCount                               BuyItNowPrice  \\\n",
       "0       18  {u'_currencyID': u'USD', u'value': u'0.0'}   \n",
       "1       19  {u'_currencyID': u'USD', u'value': u'0.0'}   \n",
       "2      NaN  {u'_currencyID': u'USD', u'value': u'0.0'}   \n",
       "3      NaN  {u'_currencyID': u'USD', u'value': u'0.0'}   \n",
       "4      NaN  {u'_currencyID': u'USD', u'value': u'0.0'}   \n",
       "\n",
       "                                         Description       SKU       MPN  \\\n",
       "0  <ul>\\n    <li><font face=\"Arial\">\\n        Lux...  BSTPSO72  BSTPSO72   \n",
       "1  <ul>\\n    <li><font face=\"Arial\">\\n        Lux...  BSTPSO60  BSTPSO60   \n",
       "2  <ul>\\n    <li>\\n        Luxury fitted waterpro...  BSTPSO30       NaN   \n",
       "3  <ul>\\n    <li>\\n        Luxury fitted Mattress...  BSAQML60       NaN   \n",
       "4  <ul>\\n    <li>\\n        Luxury Quilted mattres...  BSAQTL60       NaN   \n",
       "\n",
       "             EAN                                       ReturnPolicy  \\\n",
       "0  5029280064064  {u'ShippingCostPaidByOption': u'Buyer', u'Ship...   \n",
       "1  5029280064057  {u'ShippingCostPaidByOption': u'Buyer', u'Ship...   \n",
       "2  5029280064125  {u'ShippingCostPaidByOption': u'Buyer', u'Ship...   \n",
       "3  5029280064019  {u'ShippingCostPaidByOption': u'Buyer', u'Ship...   \n",
       "4  5029280063777  {u'ShippingCostPaidByOption': u'Buyer', u'Ship...   \n",
       "\n",
       "  ListingStatus  \n",
       "0        Active  \n",
       "1        Active  \n",
       "2        Active  \n",
       "3        Active  \n",
       "4        Active  "
      ]
     },
     "execution_count": 4,
     "metadata": {},
     "output_type": "execute_result"
    }
   ],
   "source": [
    "df = e.allitems_dataframe\n",
    "df.head()"
   ]
  },
  {
   "cell_type": "code",
   "execution_count": 5,
   "metadata": {
    "collapsed": false
   },
   "outputs": [],
   "source": [
    "df['DescriptionLen'] = [len(r) for r in df['Description']]"
   ]
  },
  {
   "cell_type": "markdown",
   "metadata": {},
   "source": [
    "Get the list of items that need to be revised."
   ]
  },
  {
   "cell_type": "code",
   "execution_count": 6,
   "metadata": {
    "collapsed": false
   },
   "outputs": [],
   "source": [
    "df1 = df[(df['DescriptionLen'] < 150)][:3]\n",
    "# df1 = df  # Revise all items"
   ]
  },
  {
   "cell_type": "markdown",
   "metadata": {},
   "source": [
    "This is accessing our internal catalogue management."
   ]
  },
  {
   "cell_type": "code",
   "execution_count": 7,
   "metadata": {
    "collapsed": false
   },
   "outputs": [
    {
     "data": {
      "text/html": [
       "<div>\n",
       "<table border=\"1\" class=\"dataframe\">\n",
       "  <thead>\n",
       "    <tr style=\"text-align: right;\">\n",
       "      <th></th>\n",
       "      <th>product_id</th>\n",
       "      <th>descriptive_content</th>\n",
       "      <th>vendor_product_id</th>\n",
       "      <th>asin</th>\n",
       "      <th>barcode</th>\n",
       "      <th>slf</th>\n",
       "      <th>cost_price</th>\n",
       "      <th>rrp</th>\n",
       "      <th>variant_id</th>\n",
       "      <th>bullet_point_1_parent</th>\n",
       "      <th>...</th>\n",
       "      <th>bullet_point_4_child</th>\n",
       "      <th>bullet_point_5_parent</th>\n",
       "      <th>bullet_point_5_child</th>\n",
       "      <th>manufacturer_description</th>\n",
       "      <th>bed_size</th>\n",
       "      <th>new_rrp</th>\n",
       "      <th>WebSellingPriceIncVat</th>\n",
       "      <th>Ebay_Fee</th>\n",
       "      <th>EbaySellingPriceIncVat</th>\n",
       "      <th>EbayTitle</th>\n",
       "    </tr>\n",
       "  </thead>\n",
       "  <tbody>\n",
       "    <tr>\n",
       "      <th>0</th>\n",
       "      <td>9</td>\n",
       "      <td>Anti-Allergy / Antibacterial Mattress Protecto...</td>\n",
       "      <td>BSAQML30</td>\n",
       "      <td>B017YR9ERQ</td>\n",
       "      <td>5029280064149</td>\n",
       "      <td>3.29</td>\n",
       "      <td>5.5</td>\n",
       "      <td>10.45</td>\n",
       "      <td>SSG</td>\n",
       "      <td>Luxury fitted Mattress Protector with environm...</td>\n",
       "      <td>...</td>\n",
       "      <td></td>\n",
       "      <td>Elasticated skirt for secure fit. Machine wash...</td>\n",
       "      <td></td>\n",
       "      <td>High quality fitted mattress protector with un...</td>\n",
       "      <td>Small Single</td>\n",
       "      <td>11.06</td>\n",
       "      <td>14.69</td>\n",
       "      <td>1.47</td>\n",
       "      <td>16.16</td>\n",
       "      <td>Anti-Allergy / Antibacterial Mattress Protecto...</td>\n",
       "    </tr>\n",
       "    <tr>\n",
       "      <th>1</th>\n",
       "      <td>9</td>\n",
       "      <td>Anti-Allergy / Antibacterial Mattress Protecto...</td>\n",
       "      <td>BSAQML36</td>\n",
       "      <td>B017KHRU6M</td>\n",
       "      <td>5029280063999</td>\n",
       "      <td>3.29</td>\n",
       "      <td>5.7</td>\n",
       "      <td>12.45</td>\n",
       "      <td>SGL</td>\n",
       "      <td>Luxury fitted Mattress Protector with environm...</td>\n",
       "      <td>...</td>\n",
       "      <td></td>\n",
       "      <td>Elasticated skirt for secure fit. Machine wash...</td>\n",
       "      <td></td>\n",
       "      <td>High quality fitted mattress protector with un...</td>\n",
       "      <td>Single</td>\n",
       "      <td>11.46</td>\n",
       "      <td>14.93</td>\n",
       "      <td>1.49</td>\n",
       "      <td>16.42</td>\n",
       "      <td>Anti-Allergy / Antibacterial Mattress Protecto...</td>\n",
       "    </tr>\n",
       "    <tr>\n",
       "      <th>2</th>\n",
       "      <td>9</td>\n",
       "      <td>Anti-Allergy / Antibacterial Mattress Protecto...</td>\n",
       "      <td>BSAQML48</td>\n",
       "      <td>B017YR9F16</td>\n",
       "      <td>5029280064156</td>\n",
       "      <td>4.48</td>\n",
       "      <td>7.2</td>\n",
       "      <td>14.45</td>\n",
       "      <td>SDB</td>\n",
       "      <td>Luxury fitted Mattress Protector with environm...</td>\n",
       "      <td>...</td>\n",
       "      <td></td>\n",
       "      <td>Elasticated skirt for secure fit. Machine wash...</td>\n",
       "      <td></td>\n",
       "      <td>High quality fitted mattress protector with un...</td>\n",
       "      <td>Small Double</td>\n",
       "      <td>14.47</td>\n",
       "      <td>16.73</td>\n",
       "      <td>1.67</td>\n",
       "      <td>18.40</td>\n",
       "      <td>Anti-Allergy / Antibacterial Mattress Protecto...</td>\n",
       "    </tr>\n",
       "    <tr>\n",
       "      <th>3</th>\n",
       "      <td>9</td>\n",
       "      <td>Anti-Allergy / Antibacterial Mattress Protecto...</td>\n",
       "      <td>BSAQML54</td>\n",
       "      <td>B017KHRXXW</td>\n",
       "      <td>5029280064002</td>\n",
       "      <td>4.48</td>\n",
       "      <td>7.4</td>\n",
       "      <td>14.95</td>\n",
       "      <td>DBL</td>\n",
       "      <td>Luxury fitted Mattress Protector with environm...</td>\n",
       "      <td>...</td>\n",
       "      <td></td>\n",
       "      <td>Elasticated skirt for secure fit. Machine wash...</td>\n",
       "      <td></td>\n",
       "      <td>High quality fitted mattress protector with un...</td>\n",
       "      <td>Double</td>\n",
       "      <td>14.87</td>\n",
       "      <td>16.97</td>\n",
       "      <td>1.70</td>\n",
       "      <td>18.67</td>\n",
       "      <td>Anti-Allergy / Antibacterial Mattress Protecto...</td>\n",
       "    </tr>\n",
       "    <tr>\n",
       "      <th>4</th>\n",
       "      <td>9</td>\n",
       "      <td>Anti-Allergy / Antibacterial Mattress Protecto...</td>\n",
       "      <td>BSAQML60</td>\n",
       "      <td>B017KHRYAO</td>\n",
       "      <td>5029280064019</td>\n",
       "      <td>4.88</td>\n",
       "      <td>8.1</td>\n",
       "      <td>17.95</td>\n",
       "      <td>KNG</td>\n",
       "      <td>Luxury fitted Mattress Protector with environm...</td>\n",
       "      <td>...</td>\n",
       "      <td></td>\n",
       "      <td>Elasticated skirt for secure fit. Machine wash...</td>\n",
       "      <td></td>\n",
       "      <td>High quality fitted mattress protector with un...</td>\n",
       "      <td>King</td>\n",
       "      <td>16.28</td>\n",
       "      <td>17.81</td>\n",
       "      <td>1.78</td>\n",
       "      <td>19.59</td>\n",
       "      <td>Anti-Allergy / Antibacterial Mattress Protecto...</td>\n",
       "    </tr>\n",
       "  </tbody>\n",
       "</table>\n",
       "<p>5 rows × 26 columns</p>\n",
       "</div>"
      ],
      "text/plain": [
       "   product_id                                descriptive_content  \\\n",
       "0           9  Anti-Allergy / Antibacterial Mattress Protecto...   \n",
       "1           9  Anti-Allergy / Antibacterial Mattress Protecto...   \n",
       "2           9  Anti-Allergy / Antibacterial Mattress Protecto...   \n",
       "3           9  Anti-Allergy / Antibacterial Mattress Protecto...   \n",
       "4           9  Anti-Allergy / Antibacterial Mattress Protecto...   \n",
       "\n",
       "  vendor_product_id        asin        barcode   slf  cost_price    rrp  \\\n",
       "0          BSAQML30  B017YR9ERQ  5029280064149  3.29         5.5  10.45   \n",
       "1          BSAQML36  B017KHRU6M  5029280063999  3.29         5.7  12.45   \n",
       "2          BSAQML48  B017YR9F16  5029280064156  4.48         7.2  14.45   \n",
       "3          BSAQML54  B017KHRXXW  5029280064002  4.48         7.4  14.95   \n",
       "4          BSAQML60  B017KHRYAO  5029280064019  4.88         8.1  17.95   \n",
       "\n",
       "  variant_id                              bullet_point_1_parent  \\\n",
       "0        SSG  Luxury fitted Mattress Protector with environm...   \n",
       "1        SGL  Luxury fitted Mattress Protector with environm...   \n",
       "2        SDB  Luxury fitted Mattress Protector with environm...   \n",
       "3        DBL  Luxury fitted Mattress Protector with environm...   \n",
       "4        KNG  Luxury fitted Mattress Protector with environm...   \n",
       "\n",
       "                         ...                         bullet_point_4_child  \\\n",
       "0                        ...                                                \n",
       "1                        ...                                                \n",
       "2                        ...                                                \n",
       "3                        ...                                                \n",
       "4                        ...                                                \n",
       "\n",
       "                               bullet_point_5_parent bullet_point_5_child  \\\n",
       "0  Elasticated skirt for secure fit. Machine wash...                        \n",
       "1  Elasticated skirt for secure fit. Machine wash...                        \n",
       "2  Elasticated skirt for secure fit. Machine wash...                        \n",
       "3  Elasticated skirt for secure fit. Machine wash...                        \n",
       "4  Elasticated skirt for secure fit. Machine wash...                        \n",
       "\n",
       "                            manufacturer_description      bed_size new_rrp  \\\n",
       "0  High quality fitted mattress protector with un...  Small Single   11.06   \n",
       "1  High quality fitted mattress protector with un...        Single   11.46   \n",
       "2  High quality fitted mattress protector with un...  Small Double   14.47   \n",
       "3  High quality fitted mattress protector with un...        Double   14.87   \n",
       "4  High quality fitted mattress protector with un...          King   16.28   \n",
       "\n",
       "  WebSellingPriceIncVat Ebay_Fee EbaySellingPriceIncVat  \\\n",
       "0                 14.69     1.47                  16.16   \n",
       "1                 14.93     1.49                  16.42   \n",
       "2                 16.73     1.67                  18.40   \n",
       "3                 16.97     1.70                  18.67   \n",
       "4                 17.81     1.78                  19.59   \n",
       "\n",
       "                                           EbayTitle  \n",
       "0  Anti-Allergy / Antibacterial Mattress Protecto...  \n",
       "1  Anti-Allergy / Antibacterial Mattress Protecto...  \n",
       "2  Anti-Allergy / Antibacterial Mattress Protecto...  \n",
       "3  Anti-Allergy / Antibacterial Mattress Protecto...  \n",
       "4  Anti-Allergy / Antibacterial Mattress Protecto...  \n",
       "\n",
       "[5 rows x 26 columns]"
      ]
     },
     "execution_count": 7,
     "metadata": {},
     "output_type": "execute_result"
    }
   ],
   "source": [
    "from inventory import Inventory\n",
    "inv = Inventory()\n",
    "inv.df.head()"
   ]
  },
  {
   "cell_type": "code",
   "execution_count": 8,
   "metadata": {
    "collapsed": false
   },
   "outputs": [
    {
     "name": "stdout",
     "output_type": "stream",
     "text": [
      " EAN 5029280064064\n",
      "Set Description for ItemID 222241552193\n",
      " EAN 5029280064057\n",
      "Set Description for ItemID 222241565687\n",
      " EAN 5029280064125\n",
      "Set Description for ItemID 222243612061\n",
      " EAN 5029280064019\n",
      "Set Description for ItemID 222243647970\n",
      " EAN 5029280063777\n",
      "Set Description for ItemID 222243648296\n",
      " EAN 5029280063883\n",
      "Set Description for ItemID 222243648557\n",
      " EAN 5029280063890\n",
      "Set Description for ItemID 222243648664\n",
      " EAN 5029280063937\n",
      "Set Description for ItemID 222243649143\n",
      " EAN 5029280063944\n",
      "Set Description for ItemID 222243649220\n",
      " EAN 5029280063722\n",
      "Set Description for ItemID 222243649360\n",
      " EAN 5029280063739\n",
      "Set Description for ItemID 222243649417\n",
      " EAN 5029280063746\n",
      "Set Description for ItemID 222243649507\n",
      " EAN 5029280063807\n",
      "Set Description for ItemID 222243649630\n",
      " EAN 5029280063814\n",
      "Set Description for ItemID 222243649705\n",
      " EAN 5029280063821\n",
      "Set Description for ItemID 222243649775\n",
      " EAN 5029280063838\n",
      "Set Description for ItemID 222243649854\n",
      " EAN 5029280064149\n",
      "Set Description for ItemID 222249074335\n",
      " EAN 5029280063999\n",
      "Set Description for ItemID 222249074395\n",
      " EAN 5029280064156\n",
      "Set Description for ItemID 222249074426\n",
      " EAN 5029280064002\n",
      "Set Description for ItemID 222249074478\n",
      " EAN 5029280064026\n",
      "Set Description for ItemID 222249074567\n",
      " EAN 5029280063753\n",
      "Set Description for ItemID 222249074605\n",
      " EAN 5029280063760\n",
      "Set Description for ItemID 222249074647\n",
      " EAN 5029280063784\n",
      "Set Description for ItemID 222249074735\n",
      " EAN 5029280063876\n",
      "Set Description for ItemID 222249074774\n",
      " EAN 5029280063906\n",
      "Set Description for ItemID 222249074948\n",
      " EAN 5029280063913\n",
      "Set Description for ItemID 222249074991\n",
      " EAN 5029280063920\n",
      "Set Description for ItemID 222249075037\n",
      " EAN 5029280063715\n",
      "Set Description for ItemID 222249075198\n",
      " EAN 5029280063845\n",
      "Set Description for ItemID 222249075638\n",
      " EAN 5029280063852\n",
      "Set Description for ItemID 222249075863\n",
      " EAN 5029280063869\n",
      "Set Description for ItemID 222249075962\n",
      " EAN 5029280063968\n",
      "Set Description for ItemID 222249076036\n",
      " EAN 5029280063975\n",
      "Set Description for ItemID 222249076069\n",
      " EAN 5029280063982\n",
      "Set Description for ItemID 222249076106\n",
      " EAN 5029280064033\n",
      "Set Description for ItemID 222249076158\n",
      " EAN 5029280064132\n",
      "Set Description for ItemID 222249076186\n",
      " EAN 5029280064040\n",
      "Set Description for ItemID 222249076227\n",
      " EAN 5029280064071\n",
      "Set Description for ItemID 222249076266\n",
      " EAN 5029280064088\n",
      "Set Description for ItemID 222249076308\n",
      " EAN 5029280064095\n",
      "Set Description for ItemID 222249076346\n",
      " EAN 5029280064101\n",
      "Set Description for ItemID 222249076375\n",
      " EAN 5029280064156\n",
      "Set Description for ItemID 222249088232\n",
      " EAN 5029280064033\n",
      "Set Description for ItemID 222262161015\n",
      "{'Item': {'ItemID': '222262161015', 'Description': '<![CDATA[\\n<ul>\\n    <li><font face=\"Arial\">\\n        Luxury fitted waterproof towelling mattress protector..\\n    </font></li>\\n    <li><font face=\"Arial\">\\n        Pure cotton pile with soft breathable waterproof underside - Protects against liquid spills.\\n    </font></li>\\n    <li><font face=\"Arial\">\\n        Stretch polyester skirt to fit single bed.\\n        \\n    </font></li>\\n    <li><font face=\"Arial\">\\n        Machine washable at 95\\xc2\\xb0C - Stretch polyester skirt for a secure fit.\\n    </font></li>\\n    <li><font face=\"Arial\">\\n        Helps create a healthier and more hygienic sleeping environment.\\n    </font></li>\\n</ul>\\n<div><font face=\"Arial\">Luxury pure cotton pile with breathable waterproof underside. <br/> Soft and absorbent surface. <br/> Many waterproof protectors are impervious which causes clamminess and discomfort. Ours ensures both comfort and protection, while providing  a shield against the  dust mites and bacteria which  are known to live in the average mattress. <br/> Elasticated stretch skirting ensures a snug fit.</font></div>\\n]]>'}}\n",
      "u\"ReviseItem: Class: RequestError, Severity: Error, Code: 10029, Listing cannot be revised. The title or subtitle can't be revised for auction-style listings that have at least 1 pending bid, or are ending in less than 12 hours. The same applies for fixed price listings that have at least 1 quantity sold, or a pending Best Offer.\"\n",
      "{'Ack': 'Failure', 'Timestamp': '2016-09-28T14:06:28.647Z', 'Errors': [{'ErrorCode': '10029', 'LongMessage': \"The title or subtitle can't be revised for auction-style listings that have at least 1 pending bid, or are ending in less than 12 hours. The same applies for fixed price listings that have at least 1 quantity sold, or a pending Best Offer.\", 'ErrorClassification': 'RequestError', 'SeverityCode': 'Error', 'ShortMessage': 'Listing cannot be revised.'}, {'SeverityCode': 'Warning', 'ErrorClassification': 'RequestError', 'ErrorCode': '21917236', 'LongMessage': \"Funds from your sales will be unavailable and displayed as 'pending' in your PayPal account for a period of time. Learn more: http://cgi6.ebay.co.uk/ws/eBayISAPI.dll?UserPolicyMessaging\", 'ErrorParameters': {'_ParamID': '0', 'Value': 'http://cgi6.ebay.co.uk/ws/eBayISAPI.dll?UserPolicyMessaging'}, 'ShortMessage': \"Funds from your sales will be unavailable and displayed as 'pending' in your PayPal account for a period of time.\"}], 'Version': '987', 'Build': 'E987_UNI_API5_18125388_R1'}\n"
     ]
    }
   ],
   "source": [
    "# iterate through rows of data from Ebay\n",
    "for rowt in df1.iterrows():\n",
    "    row=rowt[1]\n",
    "    EAN = row['EAN']\n",
    "    print(' EAN {}'.format(EAN))\n",
    "    txt = inv.get_description(EAN)\n",
    "    # print('Get Description for EAN {} = {}'.format(EAN, txt.encode('utf8')))\n",
    "    item_id = row['ItemID']\n",
    "    print('Set Description for ItemID {}'.format(item_id))\n",
    "    e.set_description(item_id, txt)\n"
   ]
  },
  {
   "cell_type": "code",
   "execution_count": 9,
   "metadata": {
    "collapsed": false
   },
   "outputs": [
    {
     "data": {
      "text/plain": [
       "u'\\n<ul>\\n    <li><font face=\"Arial\">\\n        Luxury fitted waterproof towelling mattress protector..\\n    </font></li>\\n    <li><font face=\"Arial\">\\n        Pure cotton pile with soft breathable waterproof underside - Protects against liquid spills.\\n    </font></li>\\n    <li><font face=\"Arial\">\\n        Stretch polyester skirt to fit single bed.\\n        \\n    </font></li>\\n    <li><font face=\"Arial\">\\n        Machine washable at 95\\xb0C - Stretch polyester skirt for a secure fit.\\n    </font></li>\\n    <li><font face=\"Arial\">\\n        Helps create a healthier and more hygienic sleeping environment.\\n    </font></li>\\n</ul>\\n<div><font face=\"Arial\">Luxury pure cotton pile with breathable waterproof underside. <br/> Soft and absorbent surface. <br/> Many waterproof protectors are impervious which causes clamminess and discomfort. Ours ensures both comfort and protection, while providing  a shield against the  dust mites and bacteria which  are known to live in the average mattress. <br/> Elasticated stretch skirting ensures a snug fit.</font></div>\\n'"
      ]
     },
     "execution_count": 9,
     "metadata": {},
     "output_type": "execute_result"
    }
   ],
   "source": []
  },
  {
   "cell_type": "code",
   "execution_count": null,
   "metadata": {
    "collapsed": false
   },
   "outputs": [],
   "source": []
  },
  {
   "cell_type": "code",
   "execution_count": null,
   "metadata": {
    "collapsed": true
   },
   "outputs": [],
   "source": []
  },
  {
   "cell_type": "code",
   "execution_count": null,
   "metadata": {
    "collapsed": false
   },
   "outputs": [],
   "source": []
  },
  {
   "cell_type": "code",
   "execution_count": null,
   "metadata": {
    "collapsed": true
   },
   "outputs": [],
   "source": []
  }
 ],
 "metadata": {
  "kernelspec": {
   "display_name": "Python 2",
   "language": "python",
   "name": "python2"
  },
  "language_info": {
   "codemirror_mode": {
    "name": "ipython",
    "version": 2
   },
   "file_extension": ".py",
   "mimetype": "text/x-python",
   "name": "python",
   "nbconvert_exporter": "python",
   "pygments_lexer": "ipython2",
   "version": "2.7.12"
  }
 },
 "nbformat": 4,
 "nbformat_minor": 0
}
